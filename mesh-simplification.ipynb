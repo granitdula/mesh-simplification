{
 "cells": [
  {
   "cell_type": "markdown",
   "metadata": {},
   "source": [
    "## Import Libraries"
   ]
  },
  {
   "cell_type": "code",
   "execution_count": null,
   "metadata": {},
   "outputs": [],
   "source": [
    "import sys,os\n",
    "\n",
    "RES_PATH = 'models' # Folder where all 3D models are kept. Same dir level as this file.\n",
    "\n",
    "if not os.path.exists(RES_PATH):\n",
    "    print(f\"cannot find {RES_PATH} folder, please update RES_PATH\")\n",
    "    exit(1)\n",
    "else:\n",
    "    pass\n",
    "\n",
    "import pyglet\n",
    "pyglet.options['shadow_window'] = False\n",
    "\n",
    "import pyrender\n",
    "import numpy as np\n",
    "import trimesh\n",
    "\n",
    "import matplotlib\n",
    "import matplotlib.pyplot as plt\n",
    "\n",
    "from sklearn.neighbors import KDTree\n",
    "\n",
    "import heapq\n",
    "%load_ext autoreload\n",
    "%autoreload 2"
   ]
  },
  {
   "cell_type": "markdown",
   "metadata": {},
   "source": [
    "## Trimesh Utility"
   ]
  },
  {
   "cell_type": "code",
   "execution_count": null,
   "metadata": {},
   "outputs": [],
   "source": [
    "def load_mesh(filename):\n",
    "    mesh_fp = os.path.join(RES_PATH, filename)\n",
    "    \n",
    "    assert os.path.exists(mesh_fp), 'cannot found:'+mesh_fp\n",
    "    \n",
    "    t_mesh = trimesh.load(mesh_fp)\n",
    "    \n",
    "    return t_mesh"
   ]
  },
  {
   "cell_type": "markdown",
   "metadata": {},
   "source": [
    "## Mesh Simplification Utility"
   ]
  },
  {
   "cell_type": "code",
   "execution_count": null,
   "metadata": {},
   "outputs": [],
   "source": [
    "def get_all_valid_pairs(mesh, threshold):\n",
    "    thresh_squared = threshold ** 2\n",
    "    valid_pairs = []\n",
    "    edge_pair_map = dict() # Maps vertex indices to a set of all the vertex indices its paired to.\n",
    "    \n",
    "    # Updates the mapping of the pairs appropriately.\n",
    "    def update_mapping(v1, v2):\n",
    "        if v1 in edge_pair_map: edge_pair_map[v1].add(v2)\n",
    "        else: edge_pair_map[v1] = {v2}\n",
    "        \n",
    "        if v2 in edge_pair_map: edge_pair_map[v2].add(v1)\n",
    "        else: edge_pair_map[v2] = {v1}\n",
    "    \n",
    "    print(\"Getting edge pairs...\")\n",
    "    for edge in mesh.edges_unique:\n",
    "        valid_pairs.append((edge[0], edge[1]))\n",
    "        update_mapping(edge[0], edge[1])\n",
    "    \n",
    "    print(\"Getting vertex pairs within threshold...\")\n",
    "    # Gets vertex pairs within threshold.\n",
    "    for i, vert1 in enumerate(mesh.vertices):\n",
    "        for j, vert2 in enumerate(mesh.vertices[i+1:]):\n",
    "            if not j in edge_pair_map:\n",
    "                # Uses squared distance to avoid inefficient square root function.\n",
    "                sq_distance = np.sum((vert1-vert2) ** 2, axis=0)\n",
    "    \n",
    "                if sq_distance < thresh_squared: \n",
    "                    valid_pairs.append((i, j))\n",
    "                    update_mapping(i, j)\n",
    "                    \n",
    "            elif not i in edge_pair_map[j]: # Checks for duplicate pairs from the edges.\n",
    "                # Uses squared distance to avoid inefficient square root function.\n",
    "                sq_distance = np.sum((vert1-vert2) ** 2, axis=0)\n",
    "    \n",
    "                if sq_distance < thresh_squared: \n",
    "                    valid_pairs.append((i, j))\n",
    "                    update_mapping(i, j)\n",
    "        \n",
    "        print(f\"i = {i}/{len(mesh.vertices)-1}\")\n",
    "    \n",
    "    return valid_pairs\n",
    "\n",
    "def calculate_vertex_error_quadric(mesh, vertex_index):\n",
    "    tri_face_indices = mesh.vertex_faces[vertex_index]\n",
    "    \n",
    "    Q = np.zeros((4, 4))\n",
    "    for i in (i for i in tri_face_indices if i != -1): # Filters out padded -1s.\n",
    "        face = mesh.faces[i]\n",
    "        p1 = mesh.vertices[face[0]]\n",
    "        p2 = mesh.vertices[face[1]]\n",
    "        p3 = mesh.vertices[face[2]]\n",
    "        \n",
    "        # Calculates coefficients a, b, c and d, of the plane equation of the triangle face.\n",
    "        n = np.cross((p2 - p1), (p3 - p1))\n",
    "        a, b, c = n = n / np.linalg.norm(n)\n",
    "        d = np.dot(n, p1)\n",
    "        \n",
    "        K_p = np.array([[a**2, a*b, a*c, a*d],\n",
    "                        [a*b, b**2, b*c, b*d],\n",
    "                        [a*c, b*c, c**2, c*d],\n",
    "                        [a*d, b*d, c*d, d**2]])\n",
    "        Q += K_p\n",
    "    \n",
    "    return Q"
   ]
  },
  {
   "cell_type": "code",
   "execution_count": null,
   "metadata": {},
   "outputs": [],
   "source": [
    "def compute_optimal_contraction(m, pair, q1, q2):\n",
    "    q_bar = q1 + q2\n",
    "    q_bar[3,:] = [0,0,0,1]\n",
    "    b = np.array([[0],[0],[0],[1]])\n",
    "    result = np.linalg.solve(q_bar, b)\n",
    "    return result"
   ]
  },
  {
   "cell_type": "code",
   "execution_count": null,
   "metadata": {},
   "outputs": [],
   "source": [
    "def calculate_error(v_bar, pair, q1, q2):\n",
    "    error = v_bar.T@(q1 + q2)@v_bar\n",
    "    return error[0][0]"
   ]
  },
  {
   "cell_type": "code",
   "execution_count": null,
   "metadata": {},
   "outputs": [],
   "source": [
    "def create_heap(m, pairs):\n",
    "    heap = []\n",
    "    for pair in pairs:\n",
    "        q1 = calculate_vertex_error_quadric(m, pair[0])\n",
    "        q2 = calculate_vertex_error_quadric(m, pair[1])\n",
    "        v_bar = compute_optimal_contraction(m, pair, q1, q2)\n",
    "        error = calculate_error(v_bar, pair, q1, q2)\n",
    "        heapq.heappush(heap, (error, pair))\n",
    "    return heap"
   ]
  },
  {
   "cell_type": "code",
   "execution_count": null,
   "metadata": {},
   "outputs": [],
   "source": [
    "def update_valid_pairs(mesh, v_bar, v1, v2):\n",
    "    pass"
   ]
  },
  {
   "cell_type": "code",
   "execution_count": null,
   "metadata": {},
   "outputs": [],
   "source": [
    "def simplify_mesh(mesh, threshold=0.7):\n",
    "    valid_pairs = get_all_valid_pairs(mesh, threshold)\n",
    "    heap = create_heap(mesh, valid_pairs)\n",
    "    \n",
    "    while len(heap) != 0:\n",
    "        error, pair = heapq.heappop(heap)\n",
    "        \n",
    "        v1_index, v2_index = pair[0], pair[1]\n",
    "        v1_neighbors = mesh.vertex_neighbors[v1_index]\n",
    "        \n",
    "        q1 = calculate_vertex_error_quadric(mesh, pair[0])\n",
    "        q2 = calculate_vertex_error_quadric(mesh, pair[1])\n",
    "        v_bar = compute_optimal_contraction(mesh, pair, q1, q2)\n",
    "        \n",
    "        if v2_index in v1_neighbors:\n",
    "            # Perform edge contraction - get relevant face and vertex data.\n",
    "            print(\"edge contraction\")\n",
    "        else:\n",
    "            # Perform non-edge contraction - get relevant face and vertex data.\n",
    "            print(\"non-edge contraction\")\n",
    "            \n",
    "        # Update valid_pairs with the new v_bar and all neighboring vertices of v1 and v2\n",
    "        # and update the new pair's errors.\n",
    "        update_valid_pairs(valid_pairs, v_bar, v1_index, v2_index)\n",
    "        \n",
    "    # Using relevant face and vertex data from contractions, create faces and vertices and\n",
    "    # use that to initialise a new trimesh.\n",
    "    new_mesh = mesh # TODO: Change this to the newly initialise trimesh.\n",
    "    \n",
    "    return new_mesh"
   ]
  },
  {
   "cell_type": "markdown",
   "metadata": {},
   "source": [
    "## Main Code"
   ]
  },
  {
   "cell_type": "code",
   "execution_count": null,
   "metadata": {
    "scrolled": true
   },
   "outputs": [],
   "source": [
    "%%time\n",
    "m = load_mesh(\"coffee_cup.obj\")\n",
    "new_mesh = simplify_mesh(m)"
   ]
  }
 ],
 "metadata": {
  "kernelspec": {
   "display_name": "Python 3",
   "language": "python",
   "name": "python3"
  },
  "language_info": {
   "codemirror_mode": {
    "name": "ipython",
    "version": 3
   },
   "file_extension": ".py",
   "mimetype": "text/x-python",
   "name": "python",
   "nbconvert_exporter": "python",
   "pygments_lexer": "ipython3",
   "version": "3.9.1"
  }
 },
 "nbformat": 4,
 "nbformat_minor": 4
}
