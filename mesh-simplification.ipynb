{
 "cells": [
  {
   "cell_type": "markdown",
   "metadata": {},
   "source": [
    "## Import Libraries"
   ]
  },
  {
   "cell_type": "code",
   "execution_count": null,
   "metadata": {},
   "outputs": [],
   "source": [
    "import sys,os\n",
    "\n",
    "RES_PATH = 'models' # Folder where all 3D models are kept. Same dir level as this file.\n",
    "\n",
    "if not os.path.exists(RES_PATH):\n",
    "    print(f\"cannot find {RES_PATH} folder, please update RES_PATH\")\n",
    "    exit(1)\n",
    "else:\n",
    "    pass\n",
    "\n",
    "import pyglet\n",
    "pyglet.options['shadow_window'] = False\n",
    "\n",
    "import pyrender\n",
    "import numpy as np\n",
    "import trimesh\n",
    "\n",
    "import matplotlib\n",
    "import matplotlib.pyplot as plt\n",
    "\n",
    "from sklearn.neighbors import KDTree\n",
    "\n",
    "%load_ext autoreload\n",
    "%autoreload 2"
   ]
  },
  {
   "cell_type": "markdown",
   "metadata": {},
   "source": [
    "## Trimesh Utility"
   ]
  },
  {
   "cell_type": "code",
   "execution_count": null,
   "metadata": {},
   "outputs": [],
   "source": [
    "def load_mesh(filename):\n",
    "    mesh_fp = os.path.join(RES_PATH, filename)\n",
    "    \n",
    "    assert os.path.exists(mesh_fp), 'cannot found:'+mesh_fp\n",
    "    \n",
    "    t_mesh = trimesh.load(mesh_fp)\n",
    "    \n",
    "    return t_mesh"
   ]
  },
  {
   "cell_type": "markdown",
   "metadata": {},
   "source": [
    "## Mesh Simplification Utility"
   ]
  },
  {
   "cell_type": "code",
   "execution_count": null,
   "metadata": {},
   "outputs": [],
   "source": [
    "def calculate_vertex_error_quadric(mesh, vertex_index):\n",
    "    tri_face_indices = mesh.vertex_faces[vertex_index]\n",
    "    \n",
    "    Q = np.zeros((4, 4))\n",
    "    for i in (i for i in tri_face_indices if i != -1): # Filters out padded -1s.\n",
    "        face = mesh.faces[i]\n",
    "        p1 = mesh.vertices[face[0]]\n",
    "        p2 = mesh.vertices[face[1]]\n",
    "        p3 = mesh.vertices[face[2]]\n",
    "        \n",
    "        # Calculates coefficients a, b, c and d, of the plane equation of the triangle face.\n",
    "        n = np.cross((p2 - p1), (p3 - p1))\n",
    "        a, b, c = n = n / np.linalg.norm(n)\n",
    "        d = np.dot(n, p1)\n",
    "        \n",
    "        K_p = np.array([[a**2, a*b, a*c, a*d],\n",
    "                        [a*b, b**2, b*c, b*d],\n",
    "                        [a*c, b*c, c**2, c*d],\n",
    "                        [a*d, b*d, c*d, d**2]])\n",
    "        Q += K_p\n",
    "    \n",
    "    return Q"
   ]
  },
  {
   "cell_type": "markdown",
   "metadata": {},
   "source": [
    "## Main Code"
   ]
  },
  {
   "cell_type": "code",
   "execution_count": null,
   "metadata": {},
   "outputs": [],
   "source": [
    "def simplify_mesh(mesh):\n",
    "    pass"
   ]
  },
  {
   "cell_type": "code",
   "execution_count": null,
   "metadata": {},
   "outputs": [],
   "source": [
    "m = load_mesh(\"coffee_cup.obj\")\n",
    "Q = calculate_vertex_error_quadric(m, 0)\n",
    "print(Q)"
   ]
  }
 ],
 "metadata": {
  "kernelspec": {
   "display_name": "Python 3",
   "language": "python",
   "name": "python3"
  },
  "language_info": {
   "codemirror_mode": {
    "name": "ipython",
    "version": 3
   },
   "file_extension": ".py",
   "mimetype": "text/x-python",
   "name": "python",
   "nbconvert_exporter": "python",
   "pygments_lexer": "ipython3",
   "version": "3.9.1"
  }
 },
 "nbformat": 4,
 "nbformat_minor": 4
}
