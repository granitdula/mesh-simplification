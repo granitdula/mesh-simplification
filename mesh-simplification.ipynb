{
 "cells": [
  {
   "cell_type": "markdown",
   "metadata": {},
   "source": [
    "## Import Libraries"
   ]
  },
  {
   "cell_type": "code",
   "execution_count": 9,
   "metadata": {},
   "outputs": [
    {
     "output_type": "stream",
     "name": "stdout",
     "text": [
      "The autoreload extension is already loaded. To reload it, use:\n  %reload_ext autoreload\n"
     ]
    }
   ],
   "source": [
    "import sys,os\n",
    "\n",
    "RES_PATH = 'models' # Folder where all 3D models are kept. Same dir level as this file.\n",
    "\n",
    "if not os.path.exists(RES_PATH):\n",
    "    print(f\"cannot find {RES_PATH} folder, please update RES_PATH\")\n",
    "    exit(1)\n",
    "else:\n",
    "    pass\n",
    "\n",
    "import pyglet\n",
    "pyglet.options['shadow_window'] = False\n",
    "\n",
    "import pyrender\n",
    "import numpy as np\n",
    "import trimesh\n",
    "\n",
    "import matplotlib\n",
    "import matplotlib.pyplot as plt\n",
    "\n",
    "from sklearn.neighbors import KDTree\n",
    "\n",
    "import heapq\n",
    "%load_ext autoreload\n",
    "%autoreload 2"
   ]
  },
  {
   "cell_type": "markdown",
   "metadata": {},
   "source": [
    "## Trimesh Utility"
   ]
  },
  {
   "cell_type": "code",
   "execution_count": 3,
   "metadata": {},
   "outputs": [],
   "source": [
    "def load_mesh(filename):\n",
    "    mesh_fp = os.path.join(RES_PATH, filename)\n",
    "    \n",
    "    assert os.path.exists(mesh_fp), 'cannot found:'+mesh_fp\n",
    "    \n",
    "    t_mesh = trimesh.load(mesh_fp)\n",
    "    \n",
    "    return t_mesh"
   ]
  },
  {
   "cell_type": "markdown",
   "metadata": {},
   "source": [
    "## Mesh Simplification Utility"
   ]
  },
  {
   "cell_type": "code",
   "execution_count": 4,
   "metadata": {},
   "outputs": [],
   "source": [
    "def calculate_vertex_error_quadric(mesh, vertex_index):\n",
    "    tri_face_indices = mesh.vertex_faces[vertex_index]\n",
    "    \n",
    "    Q = np.zeros((4, 4))\n",
    "    for i in (i for i in tri_face_indices if i != -1): # Filters out padded -1s.\n",
    "        face = mesh.faces[i]\n",
    "        p1 = mesh.vertices[face[0]]\n",
    "        p2 = mesh.vertices[face[1]]\n",
    "        p3 = mesh.vertices[face[2]]\n",
    "        \n",
    "        # Calculates coefficients a, b, c and d, of the plane equation of the triangle face.\n",
    "        n = np.cross((p2 - p1), (p3 - p1))\n",
    "        a, b, c = n = n / np.linalg.norm(n)\n",
    "        d = np.dot(n, p1)\n",
    "        \n",
    "        K_p = np.array([[a**2, a*b, a*c, a*d],\n",
    "                        [a*b, b**2, b*c, b*d],\n",
    "                        [a*c, b*c, c**2, c*d],\n",
    "                        [a*d, b*d, c*d, d**2]])\n",
    "        Q += K_p\n",
    "    \n",
    "    return Q"
   ]
  },
  {
   "cell_type": "markdown",
   "metadata": {},
   "source": [
    "## Main Code"
   ]
  },
  {
   "cell_type": "code",
   "execution_count": 5,
   "metadata": {},
   "outputs": [],
   "source": [
    "def simplify_mesh(mesh):\n",
    "    pass"
   ]
  },
  {
   "cell_type": "code",
   "execution_count": 6,
   "metadata": {},
   "outputs": [
    {
     "output_type": "stream",
     "name": "stderr",
     "text": [
      "unable to load materials from: coffee_cup.mtl\n",
      "specified material (wire_028089177)  not loaded!\n",
      "[[2.44770672e-04 3.62239863e-02 8.75260338e-04 6.59834934e-01]\n",
      " [3.62239863e-02 5.99628633e+00 1.44015075e-01 1.09248900e+02]\n",
      " [8.75260338e-04 1.44015075e-01 3.46889730e-03 2.62386663e+00]\n",
      " [6.59834934e-01 1.09248900e+02 2.62386663e+00 1.99045323e+03]]\n"
     ]
    }
   ],
   "source": [
    "m = load_mesh(\"coffee_cup.obj\")\n",
    "Q = calculate_vertex_error_quadric(m, 0)\n",
    "print(Q)"
   ]
  },
  {
   "cell_type": "code",
   "execution_count": 35,
   "metadata": {},
   "outputs": [],
   "source": [
    "pairs = [(1,2), (3,4), (5,6)]"
   ]
  },
  {
   "cell_type": "code",
   "execution_count": 36,
   "metadata": {},
   "outputs": [],
   "source": [
    "class PairError:\n",
    "  def __init__(self, pair, error):\n",
    "    self.pair = pair\n",
    "    self.error = error"
   ]
  },
  {
   "cell_type": "code",
   "execution_count": 49,
   "metadata": {},
   "outputs": [],
   "source": [
    "def compute_optimal_contraction(m, pair, q1, q2):\n",
    "    q_bar = q1 + q2\n",
    "    q_bar[3,:] = [0,0,0,1]\n",
    "    b = np.array([[0],[0],[0],[1]])\n",
    "    result = np.linalg.solve(q_bar, b)\n",
    "    return result"
   ]
  },
  {
   "cell_type": "code",
   "execution_count": 50,
   "metadata": {},
   "outputs": [],
   "source": [
    "def calculate_error(v_bar, pair, q1, q2):\n",
    "    error = v_bar.T@(q1-q2)@v_bar\n",
    "    return error[0][0]"
   ]
  },
  {
   "cell_type": "code",
   "execution_count": 54,
   "metadata": {},
   "outputs": [],
   "source": [
    "def create_heap(m, pairs):\n",
    "    heap = []\n",
    "    for pair in pairs:\n",
    "        q1 = calculate_vertex_error_quadric(m, pair[0])\n",
    "        q2 = calculate_vertex_error_quadric(m, pair[1])\n",
    "        v_bar = compute_optimal_contraction(m, pair, q1, q2)\n",
    "        error = calculate_error(v_bar, pair, q1, q2)\n",
    "        heapq.heappush(heap, (error, pair))\n",
    "    return heap"
   ]
  },
  {
   "cell_type": "code",
   "execution_count": 60,
   "metadata": {},
   "outputs": [
    {
     "output_type": "stream",
     "name": "stdout",
     "text": [
      "(-4.014558650387405, (3, 4))\n(0.022367831754548984, (5, 6))\n"
     ]
    }
   ],
   "source": [
    "h = create_heap(m, pairs)"
   ]
  },
  {
   "cell_type": "code",
   "execution_count": null,
   "metadata": {},
   "outputs": [],
   "source": []
  }
 ],
 "metadata": {
  "kernelspec": {
   "name": "python3613jvsc74a57bd00c2b9df7611b6b08f8609963d5d6c9c278a710c6378b939e5d5145a07246594d",
   "display_name": "Python 3.6.13 64-bit ('geo_tutorials': conda)"
  },
  "language_info": {
   "codemirror_mode": {
    "name": "ipython",
    "version": 3
   },
   "file_extension": ".py",
   "mimetype": "text/x-python",
   "name": "python",
   "nbconvert_exporter": "python",
   "pygments_lexer": "ipython3",
   "version": "3.6.13-final"
  }
 },
 "nbformat": 4,
 "nbformat_minor": 4
}